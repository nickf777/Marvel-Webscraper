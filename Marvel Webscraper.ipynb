{
 "cells": [
  {
   "cell_type": "markdown",
   "id": "9ea4963f",
   "metadata": {},
   "source": [
    "# Project Plan"
   ]
  },
  {
   "cell_type": "markdown",
   "id": "bdc19fd9",
   "metadata": {},
   "source": [
    "- Write a web scraper that scrapes title, description, metrics etc. on a list of marvel superheroes from Wikipedia\n",
    "- Uses PyMYSQL to write to a database \n",
    "\t- Several tables \n",
    "- Data Modeling in either PowerBI or SQL itself\n",
    "- Visualization that looks very professional and fun\n"
   ]
  },
  {
   "cell_type": "markdown",
   "id": "a5db1a28",
   "metadata": {},
   "source": [
    "Table 1 - Character Table\n",
    "ID | Name | CharacterDesignation | Description | CharacterLink | NumAppearances \n",
    "\n",
    "Table 2 - Actor\n",
    "ID | Actor | Character | Age | NumFilms | YearsInMCU\n",
    "\n",
    "Table 3 - Films\n",
    "ID | Title | PremiereDate | Director | Producer | Starring | Cinematography | ProductionCompany| Distributor | Country | Language | Screenplay"
   ]
  },
  {
   "cell_type": "markdown",
   "id": "c702cd12",
   "metadata": {},
   "source": [
    "# Importing Libraries"
   ]
  },
  {
   "cell_type": "code",
   "execution_count": 1,
   "id": "b43521c2",
   "metadata": {},
   "outputs": [],
   "source": [
    "import pandas as pd\n",
    "import numpy as np\n",
    "import re\n",
    "import requests\n",
    "from bs4 import BeautifulSoup\n",
    "import csv\n",
    "import pymysql"
   ]
  },
  {
   "cell_type": "markdown",
   "id": "9dd0fb8a",
   "metadata": {},
   "source": [
    "# Table 1: Scraper"
   ]
  },
  {
   "cell_type": "code",
   "execution_count": 2,
   "id": "7954c638",
   "metadata": {},
   "outputs": [],
   "source": [
    "# https://en.wikipedia.org/wiki/Characters_of_the_Marvel_Cinematic_Universe\n",
    "\n",
    "'''class Character(self, name, designation, description, link):\n",
    "    self.name = name\n",
    "    self.designation = designation\n",
    "    self.description = description\n",
    "    self.link = link\n",
    "'''\n",
    "def get_major_characters():\n",
    "    html = requests.get('https://en.wikipedia.org/wiki/Characters_of_the_Marvel_Cinematic_Universe')\n",
    "    bs = BeautifulSoup(html.text, 'lxml')\n",
    "    \n",
    "    #Character Names\n",
    "    try:\n",
    "        names = bs.find_all('h3')\n",
    "        names = [names[i].getText().rstrip('[edit]') for i in range(len(names)-2) if not names[i].getText().startswith('Introduced')]\n",
    "    except:\n",
    "        print('There was an error pulling character names.')\n",
    "    #Character Designation\n",
    "    designation = 'Major Character'\n",
    "    \n",
    "    #Character Descriptions\n",
    "    descriptions = []\n",
    "    try:\n",
    "        for heading in bs.find_all('h3'):\n",
    "            descriptions.append(heading.findNext('p').getText())\n",
    "    except:\n",
    "        print('There was an error in pulling descriptions.')\n",
    "    \n",
    "    #Movie Appearances\n",
    "    appearances = []\n",
    "    try: \n",
    "        for heading in bs.find_all('h3'):\n",
    "            appearances.append(heading.find_previous_sibling('p').getText())\n",
    "    except:\n",
    "        print('There was an error in pulling appearances.')\n",
    "    \n",
    "    #Character Link\n",
    "    links = []\n",
    "    try:\n",
    "        for div in bs.find_all('div',{'role':'note'}):\n",
    "            links.append(div.find('a',href = re.compile('^(/wiki/)')))\n",
    "    except:\n",
    "        print('There was an error in getting links')\n",
    "                \n",
    "    return links\n"
   ]
  },
  {
   "cell_type": "code",
   "execution_count": 3,
   "id": "d01c8efc",
   "metadata": {},
   "outputs": [
    {
     "name": "stdout",
     "output_type": "stream",
     "text": [
      "There was an error in pulling descriptions.\n",
      "There was an error in pulling appearances.\n"
     ]
    }
   ],
   "source": [
    "appearances = get_major_characters()"
   ]
  }
 ],
 "metadata": {
  "kernelspec": {
   "display_name": "Python 3 (ipykernel)",
   "language": "python",
   "name": "python3"
  },
  "language_info": {
   "codemirror_mode": {
    "name": "ipython",
    "version": 3
   },
   "file_extension": ".py",
   "mimetype": "text/x-python",
   "name": "python",
   "nbconvert_exporter": "python",
   "pygments_lexer": "ipython3",
   "version": "3.8.8"
  }
 },
 "nbformat": 4,
 "nbformat_minor": 5
}
